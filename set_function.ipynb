{
 "cells": [
  {
   "cell_type": "code",
   "execution_count": 4,
   "metadata": {},
   "outputs": [
    {
     "name": "stdout",
     "output_type": "stream",
     "text": [
      "[1, 2, 3, 4, 5, 6, 7, 8, 9, 10]\n",
      "2 is even\n",
      "4 is even\n",
      "6 is even\n",
      "8 is even\n",
      "10 is even\n",
      "Done\n"
     ]
    }
   ],
   "source": [
    "list1 =  [1,2,3,4,5,6,7,8,9,10]\n",
    "print(list1)\n",
    "\n",
    "for i in list1:\n",
    "    if i % 2==0:\n",
    "        print(f\"{i} is even\")\n",
    "print(\"Done\")        "
   ]
  },
  {
   "cell_type": "code",
   "execution_count": 30,
   "metadata": {},
   "outputs": [
    {
     "name": "stdout",
     "output_type": "stream",
     "text": [
      "\n",
      "1\n",
      "12\n",
      "123\n",
      "1234\n"
     ]
    }
   ],
   "source": [
    "for i in range (1,6,1):\n",
    "    for j in range (1,i,1):\n",
    "        print(F\"{j}\", end=\"\")\n",
    "    print()"
   ]
  },
  {
   "cell_type": "code",
   "execution_count": 32,
   "metadata": {},
   "outputs": [
    {
     "name": "stdout",
     "output_type": "stream",
     "text": [
      "1\n",
      "23\n",
      "456\n",
      "78910\n",
      "1112131415\n"
     ]
    }
   ],
   "source": [
    "counter =  1\n",
    "for i in range (1,6,1):\n",
    "    for j in range (i):\n",
    "        print(F\"{counter}\", end=\"\")\n",
    "        counter +=1\n",
    "    print()"
   ]
  },
  {
   "cell_type": "code",
   "execution_count": 2,
   "metadata": {},
   "outputs": [
    {
     "name": "stdout",
     "output_type": "stream",
     "text": [
      "Name = Miju and Age = 27\n"
     ]
    }
   ],
   "source": [
    "name: str = \"Miju\"\n",
    "age: int = 27\n",
    "print(f\"Name = {name} and Age = {age}\")"
   ]
  },
  {
   "cell_type": "code",
   "execution_count": 16,
   "metadata": {},
   "outputs": [],
   "source": [
    "def summ(nmu1,num2):\n",
    "    \"\"\"\n",
    "    Add two numbers together.\n",
    "    \n",
    "    Parameters:\n",
    "    num1 (int or float): The first number to be added.\n",
    "    num2 (int or float): The second number to be added.\n",
    "\n",
    "    Returns:\n",
    "    int or float: The sum of num1 and num2.\n",
    "    \"\"\"\n",
    "    result = (nmu1)+ (num2)\n",
    "    return (result)\n"
   ]
  },
  {
   "cell_type": "code",
   "execution_count": 20,
   "metadata": {},
   "outputs": [
    {
     "data": {
      "text/plain": [
       "75"
      ]
     },
     "execution_count": 20,
     "metadata": {},
     "output_type": "execute_result"
    }
   ],
   "source": [
    "summ(45,30)   \n"
   ]
  },
  {
   "cell_type": "code",
   "execution_count": 21,
   "metadata": {},
   "outputs": [
    {
     "name": "stdout",
     "output_type": "stream",
     "text": [
      "Help on function summ in module __main__:\n",
      "\n",
      "summ(nmu1, num2)\n",
      "    Add two numbers together.\n",
      "    \n",
      "    Parameters:\n",
      "    num1 (int or float): The first number to be added.\n",
      "    num2 (int or float): The second number to be added.\n",
      "    \n",
      "    Returns:\n",
      "    int or float: The sum of num1 and num2.\n",
      "\n"
     ]
    }
   ],
   "source": [
    "help(summ)"
   ]
  }
 ],
 "metadata": {
  "kernelspec": {
   "display_name": "base",
   "language": "python",
   "name": "python3"
  },
  "language_info": {
   "codemirror_mode": {
    "name": "ipython",
    "version": 3
   },
   "file_extension": ".py",
   "mimetype": "text/x-python",
   "name": "python",
   "nbconvert_exporter": "python",
   "pygments_lexer": "ipython3",
   "version": "3.11.7"
  }
 },
 "nbformat": 4,
 "nbformat_minor": 2
}
